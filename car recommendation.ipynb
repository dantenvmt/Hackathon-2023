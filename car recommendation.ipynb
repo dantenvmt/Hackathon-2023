{
 "cells": [
  {
   "cell_type": "code",
   "execution_count": 3,
   "metadata": {},
   "outputs": [
    {
     "name": "stdout",
     "output_type": "stream",
     "text": [
      "Suggested cars:\n",
      "                   VIN  MILEAGE  PRICE  \\\n",
      "5    4T4BF1FK9ER374310    54413  17588   \n",
      "6    4T1BF1FK1DU663075    75100  15795   \n",
      "7   �4T1B11HK6KU751001   120940  18991   \n",
      "13   4T1BF1FK4FU059412    74544  17792   \n",
      "26   4T1BK46K67U545699   181177   6995   \n",
      "\n",
      "                                                 Link  \n",
      "5   https://www.autotrader.com/cars-for-sale/vehic...  \n",
      "6   https://www.autotrader.com/cars-for-sale/vehic...  \n",
      "7   https://www.autotrader.com/cars-for-sale/vehic...  \n",
      "13  https://www.autotrader.com/cars-for-sale/vehic...  \n",
      "26  https://www.autotrader.com/cars-for-sale/vehic...  \n"
     ]
    }
   ],
   "source": [
    "import pandas as pd\n",
    "from textblob import TextBlob\n",
    "\n",
    "# Load data\n",
    "data = pd.read_csv('output.csv')\n",
    "\n",
    "# Ask user for desired price range\n",
    "min_price = int(input(\"Enter minimum price: \"))\n",
    "max_price = int(input(\"Enter maximum price: \"))\n",
    "\n",
    "# Filter data based on price range\n",
    "filtered_data = data.loc[(data['PRICE'] >= min_price)\n",
    "                         & (data['PRICE'] <= max_price)]\n",
    "\n",
    "# Define list of plus features\n",
    "plus_features = ['Alloy wheels', 'Auto High-beam Headlights', 'Bumpers: body-color', 'Delay-off headlights', 'Fully automatic headlights',\n",
    "                 'Heated door mirrors', 'Power door mirrors', 'Spoiler', 'Turn signal indicator mirrors', 'Air Conditioning']\n",
    "\n",
    "# Analyze sentiment of plus features\n",
    "plus_features_sentiment = []\n",
    "for feature in plus_features:\n",
    "    blob = TextBlob(feature)\n",
    "    sentiment = blob.sentiment.polarity\n",
    "    plus_features_sentiment.append(sentiment)\n",
    "\n",
    "# Get average sentiment of plus features\n",
    "avg_sentiment = sum(plus_features_sentiment) / len(plus_features_sentiment)\n",
    "\n",
    "# Suggest cars with plus features if sentiment is positive\n",
    "if avg_sentiment > 0:\n",
    "    suggested_cars = filtered_data.loc[filtered_data['Features'].apply(\n",
    "        lambda x: any(feature in x for feature in plus_features))]\n",
    "else:\n",
    "    suggested_cars = filtered_data\n",
    "\n",
    "# Check if any cars are available\n",
    "if suggested_cars.empty:\n",
    "    print(\"No cars are available within the specified price range and with the desired features.\")\n",
    "else:\n",
    "    # Print suggested cars\n",
    "    print(\"Suggested cars:\")\n",
    "    print(suggested_cars[['VIN', 'MILEAGE', 'PRICE','Link']].head(5))\n",
    "    suggested_cars.to_csv('suggested_cars.csv', index=False)\n"
   ]
  },
  {
   "cell_type": "code",
   "execution_count": null,
   "metadata": {},
   "outputs": [],
   "source": []
  }
 ],
 "metadata": {
  "kernelspec": {
   "display_name": "Python 3",
   "language": "python",
   "name": "python3"
  },
  "language_info": {
   "codemirror_mode": {
    "name": "ipython",
    "version": 3
   },
   "file_extension": ".py",
   "mimetype": "text/x-python",
   "name": "python",
   "nbconvert_exporter": "python",
   "pygments_lexer": "ipython3",
   "version": "3.9.13"
  },
  "orig_nbformat": 4
 },
 "nbformat": 4,
 "nbformat_minor": 2
}
